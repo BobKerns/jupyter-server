{
 "metadata": {
  "language_info": {
   "codemirror_mode": {
    "name": "ipython",
    "version": 3
   },
   "file_extension": ".py",
   "mimetype": "text/x-python",
   "name": "python",
   "nbconvert_exporter": "python",
   "pygments_lexer": "ipython3",
   "version": "3.7.9-final"
  },
  "orig_nbformat": 2,
  "kernelspec": {
   "name": "python379jvsc74a57bd07b3fdc58fc05a5c7333eb22729672c2b267855a9676dca45bca1af16bae6b2b5",
   "display_name": "Python 3.7.9 64-bit ('arduino': conda)"
  }
 },
 "nbformat": 4,
 "nbformat_minor": 2,
 "cells": [
  {
   "source": [
    "# Where do files go?\n",
    "This holds your Jupyter content. There are two special entries; each is overwritten on startup:\n",
    "\n",
    "* `README.md` - this file, in Markdown format.\n",
    "* [/examples](examples) — a directory of examples explaining different usages.\n",
    "\n"
   ],
   "cell_type": "markdown",
   "metadata": {}
  }
 ]
}