{
 "metadata": {
  "language_info": {
   "codemirror_mode": {
    "name": "ipython",
    "version": 3
   },
   "file_extension": ".py",
   "mimetype": "text/x-python",
   "name": "python",
   "nbconvert_exporter": "python",
   "pygments_lexer": "ipython3",
   "version": "3.7.9-final"
  },
  "orig_nbformat": 2,
  "kernelspec": {
   "name": "python379jvsc74a57bd07b3fdc58fc05a5c7333eb22729672c2b267855a9676dca45bca1af16bae6b2b5",
   "display_name": "Python 3.7.9 64-bit ('arduino': conda)"
  }
 },
 "nbformat": 4,
 "nbformat_minor": 2,
 "cells": []
}