{
 "cells": [
  {
   "cell_type": "markdown",
   "id": "faf8321d-cbd5-43b6-8275-06496ba71e60",
   "metadata": {},
   "source": [
    "# Examples directory\n",
    "This directory will be automatically reinitialized when the server is started. New files will be preserved, but changes to the examples will be lost.\n",
    "\n",
    "## Data Files\n",
    "* [Fuel_Consumption.csv](#Fuel_Consumption.csv) — an example CSV file.\n",
    "* [wifi-data.hdf5](#wifi-data.hdf5) — an example hdf5 file with network traffic data.\n",
    "\n",
    "## Fuel_Consumption.csv\n",
    "This is a simple .csv file which can be viewed via `Open With/CSVTable` (the default), `Open With/Spreadsheet`, or edited with `Open With/Editor`.\n",
    "\n",
    "Link: [Fuel_Consumption.csv](Fuel_Consumption.csv)"
   ]
  }
 ],
 "metadata": {
  "kernelspec": {
   "display_name": "Python 3",
   "language": "python",
   "name": "python3"
  },
  "language_info": {
   "codemirror_mode": {
    "name": "ipython",
    "version": 3
   },
   "file_extension": ".py",
   "mimetype": "text/x-python",
   "name": "python",
   "nbconvert_exporter": "python",
   "pygments_lexer": "ipython3",
   "version": "3.7.9"
  }
 },
 "nbformat": 4,
 "nbformat_minor": 5
}
